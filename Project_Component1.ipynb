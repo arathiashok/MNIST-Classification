{
  "cells": [
    {
      "cell_type": "code",
      "execution_count": null,
      "metadata": {
        "id": "ihOKyBDH2flI"
      },
      "outputs": [],
      "source": [
        "%matplotlib inline\n",
        "import numpy as np\n",
        "import matplotlib.pyplot as plt\n",
        "from scipy import stats\n",
        "from sklearn.datasets import fetch_openml\n",
        "import pickle\n",
        "from scipy.special import expit\n",
        "from sklearn.model_selection import train_test_split"
      ]
    },
    {
      "cell_type": "markdown",
      "metadata": {
        "id": "tud2UfZz2flK"
      },
      "source": [
        "## Open MNIST data and create a subset with desired digits\n",
        "MNIST dataset contains 70,000 images of hand-written digits from 0 to 9. Each image has a grey-scale resolution of 28 $\\times$ 28 (i.e., 784 pixels). Each pixel has an integer value ranging from 0 (bright) to 255 (dark).\n",
        "\n",
        "<font color=red>Change the code below to select a different subset </font>"
      ]
    },
    {
      "cell_type": "code",
      "execution_count": null,
      "metadata": {
        "id": "qFqzB89n2flL"
      },
      "outputs": [],
      "source": [
        "X, y = fetch_openml(\"mnist_784\", version=1, return_X_y=True, as_frame=False)\n",
        "y = np.asarray([int(numeric_string) for numeric_string in y])# actual labels\n",
        "class1Indices = (y==0)\n",
        "class2Indices = (y==1)\n",
        "\n",
        "x1 = X[class1Indices]\n",
        "x2 = X[class2Indices]\n",
        "\n",
        "Xtrain = np.concatenate((x1,x2),axis=0)\n",
        "ytrain = np.concatenate((np.zeros(x1.shape[0]),np.ones(x2.shape[0])),axis=0)\n",
        "\n",
        "with open('temp.pickle', 'wb') as handle:\n",
        "    pickle.dump([Xtrain, ytrain], handle)\n",
        "\n"
      ]
    },
    {
      "cell_type": "markdown",
      "metadata": {
        "id": "9rpie12i2flM"
      },
      "source": [
        "# Split the data to training, testing, and validation subsets"
      ]
    },
    {
      "cell_type": "code",
      "execution_count": null,
      "metadata": {
        "id": "ZaIYi5e92flM"
      },
      "outputs": [],
      "source": [
        "# loading the temporary variables for fast retrieval\n",
        "with open('temp.pickle', 'rb') as handle:\n",
        "    Xtrain, ytrain = pickle.load(handle)\n",
        "\n",
        "# Split the data to training, testing, and validation subsets\n",
        "\n",
        "X_train, X_test, y_train, y_test = train_test_split(Xtrain, ytrain, test_size=0.3, random_state=1)\n",
        "\n",
        "X_train, X_val, y_train, y_val = train_test_split(X_train, y_train, test_size=0.14, random_state=1) # 0.25 x 0.8 = 0.2\n",
        "\n",
        "\n",
        "Nsamples = X_train.shape[0]\n",
        "Nfeatures = X_train.shape[1]\n"
      ]
    },
    {
      "cell_type": "markdown",
      "metadata": {
        "id": "rgah47jx2flM"
      },
      "source": [
        "# Accuracy of a classifier"
      ]
    },
    {
      "cell_type": "code",
      "source": [
        "class1_data = Xtrain[ytrain == 0]  # Class 0\n",
        "class2_data = Xtrain[ytrain == 1]  # Class 1\n",
        "\n",
        "mu1 = np.mean(class1_data, axis=0)  # Mean vector for class 0\n",
        "mu2 = np.mean(class2_data, axis=0)  # Mean vector for class 1\n",
        "\n",
        "weights = mu2 - mu1\n",
        "\n",
        "bias = -0.5 * (np.dot((mu2+ mu1),weights))\n",
        "\n",
        "a = np.concatenate((weights, [bias]))\n",
        "\n",
        "X_augmented = np.hstack((X, np.ones((X.shape[0], 1))))\n",
        "\n",
        "predictions = np.dot(X_augmented, a)\n",
        "\n",
        "predictions = (predictions > 0).astype(int)\n",
        "\n",
        "# Count misclassifications\n",
        "misclassifications = np.sum(predictions != y)"
      ],
      "metadata": {
        "id": "twQ4dTbF2EUq"
      },
      "execution_count": null,
      "outputs": []
    },
    {
      "cell_type": "code",
      "execution_count": null,
      "metadata": {
        "id": "s5q8lfKg2flN"
      },
      "outputs": [],
      "source": [
        "def testLinearClassifier(a,X,y):\n",
        "\n",
        "    X_bias = np.c_[X, np.ones(X.shape[0])]\n",
        "\n",
        "    predictions = np.dot(X_bias, a).flatten()\n",
        "\n",
        "    predicted_labels = (predictions > 0).astype(int)\n",
        "\n",
        "    # Count misclassifications\n",
        "    misclassified = np.sum(predicted_labels != y)\n",
        "\n",
        "    print(f\"Mis-classifications= {misclassified} out of {len(y)}, Accuracy percent is given by: {100 - (misclassified / len(y)) * 100:.2f} %\")\n",
        "    return misclassified\n"
      ]
    },
    {
      "cell_type": "markdown",
      "metadata": {
        "id": "zjIVmxdp2flN"
      },
      "source": [
        "## Define and test gaussianClassifierWithIdentityCovariance"
      ]
    },
    {
      "cell_type": "code",
      "execution_count": null,
      "metadata": {
        "id": "HDFR9BmO2flN",
        "outputId": "2f693d8e-388b-49cd-9e40-3ccfcaa3e20d",
        "colab": {
          "base_uri": "https://localhost:8080/",
          "height": 482
        }
      },
      "outputs": [
        {
          "output_type": "stream",
          "name": "stdout",
          "text": [
            "Mis-classifications= 64 out of 8897, Accuracy percent is given by: 99.28 %\n",
            "Mis-classifications= 9 out of 1449, Accuracy percent is given by: 99.38 %\n",
            "Mis-classifications= 36 out of 4434, Accuracy percent is given by: 99.19 %\n"
          ]
        },
        {
          "output_type": "display_data",
          "data": {
            "text/plain": [
              "<Figure size 640x480 with 1 Axes>"
            ],
            "image/png": "[encoded data removed]"
          },
          "metadata": {}
        }
      ],
      "source": [
        "#------TRAINING CODE --------------\n",
        "\n",
        "def gaussianClassifierWithIdentityCovariance(Xtrain,ytrain):\n",
        "\n",
        "    class1_data = Xtrain[ytrain == 0]  # Class 0\n",
        "    class2_data = Xtrain[ytrain == 1]  # Class 1\n",
        "\n",
        "    # Estimate means for both classes\n",
        "    mu1 = np.mean(class1_data, axis=0)\n",
        "    mu2 = np.mean(class2_data, axis=0)\n",
        "\n",
        "    weights = mu2 - mu1\n",
        "\n",
        "    bias = -0.5 * (np.dot((mu2+ mu1),weights))\n",
        "\n",
        "    a1 = np.concatenate((weights, [bias]))\n",
        "\n",
        "    return a1\n",
        "\n",
        "\n",
        "#------SIMPLE TESTING ON THE TRAINING DATA ITSELF --------------\n",
        "a1 = gaussianClassifierWithIdentityCovariance(X_train,y_train)\n",
        "plt.imshow(np.reshape(a1[0:784],(28,28)))\n",
        "\n",
        "train = testLinearClassifier(a1,X_train,y_train)\n",
        "val = testLinearClassifier(a1,X_val,y_val)\n",
        "test = testLinearClassifier(a1,X_test,y_test)\n",
        "\n"
      ]
    },
    {
      "cell_type": "markdown",
      "metadata": {
        "id": "igVFZbOe2flO"
      },
      "source": [
        "## Define and test gaussianClassifierWithCommonCovariance"
      ]
    },
    {
      "cell_type": "code",
      "source": [
        "class1_demeaned = class1_data - mu1\n",
        "\n",
        "# For class 2\n",
        "class2_demeaned = class2_data - mu2\n",
        "\n",
        "concatenated_demeaned = np.vstack((class1_demeaned, class2_demeaned))\n",
        "\n",
        "std = np.std(concatenated_demeaned, axis=0)\n",
        "\n",
        "cov = np.diag(std ** 2)\n",
        "\n",
        "adjustment_matrix = np.zeros_like(cov)\n",
        "adjustment_matrix += 1e-6\n",
        "np.fill_diagonal(adjustment_matrix, 0)\n",
        "cov += adjustment_matrix\n",
        "\n",
        "cov_inv = np.linalg.inv(cov)"
      ],
      "metadata": {
        "id": "oQFEC9mtD36O"
      },
      "execution_count": null,
      "outputs": []
    },
    {
      "cell_type": "code",
      "execution_count": null,
      "metadata": {
        "id": "WVNPr7OO2flO",
        "outputId": "5e77dbbb-0062-457f-aa79-51c388a9375d",
        "colab": {
          "base_uri": "https://localhost:8080/",
          "height": 482
        }
      },
      "outputs": [
        {
          "output_type": "stream",
          "name": "stdout",
          "text": [
            "Mis-classifications= 86 out of 8897, Accuracy percent is given by: 99.03 %\n",
            "Mis-classifications= 16 out of 1449, Accuracy percent is given by: 98.90 %\n",
            "Mis-classifications= 44 out of 4434, Accuracy percent is given by: 99.01 %\n"
          ]
        },
        {
          "output_type": "display_data",
          "data": {
            "text/plain": [
              "<Figure size 640x480 with 1 Axes>"
            ],
            "image/png": "[encoded data removed]"
          },
          "metadata": {}
        }
      ],
      "source": [
        "#------TRAINING CODE --------------\n",
        "\n",
        "def gaussianClassifierWithCommonCovariance(Xtrain,ytrain):\n",
        "\n",
        "    class1_data = Xtrain[ytrain == 0]\n",
        "    class2_data = Xtrain[ytrain == 1]\n",
        "\n",
        "    # Estimate means for both classes\n",
        "    mu1 = np.mean(class1_data, axis=0)\n",
        "    mu2 = np.mean(class2_data, axis=0)\n",
        "\n",
        "    class1_demeaned = x1 - mu1\n",
        "    class2_demeaned = x2 - mu2\n",
        "\n",
        "    # Concatenate both demeaned classes\n",
        "    concatenated_demeaned = np.vstack((class1_demeaned, class2_demeaned))\n",
        "\n",
        "    # Compute the std\n",
        "    std = np.std(concatenated_demeaned, axis=0)\n",
        "\n",
        "    # Construct the covariance matrix with variances on the diagonal\n",
        "    cov = np.diag(std ** 2)\n",
        "\n",
        "    sigma = std**2\n",
        "    sigma = sigma +  1e-6 * np.eye(sigma.shape[0])\n",
        "\n",
        "    cov_inv = np.linalg.inv(sigma)\n",
        "\n",
        "    weights = np.dot((mu2 - mu1).T, cov_inv)\n",
        "    bias = -0.5 * (np.dot(weights,mu1+mu2))\n",
        "\n",
        "    a2 = np.concatenate((weights, [bias]))\n",
        "    return a2\n",
        "\n",
        "\n",
        "#------SIMPLE TESTING ON THE TRAINING DATA ITSELF --------------\n",
        "a2 = gaussianClassifierWithCommonCovariance(X_train,y_train)\n",
        "plt.imshow(np.reshape(a2[0:784],(28,28)))\n",
        "\n",
        "train = testLinearClassifier(a2,X_train,y_train)\n",
        "val = testLinearClassifier(a2,X_val,y_val)\n",
        "test = testLinearClassifier(a2,X_test,y_test)\n"
      ]
    },
    {
      "cell_type": "markdown",
      "metadata": {
        "id": "zEB-2OPg2flP"
      },
      "source": [
        "## Define and test logisticRegression\n",
        "\n",
        "You may choose the step size as 1e-4. You can try changing it.\n",
        "\n",
        "Use the expit() function from scipy.special.expit to implement sigmoid without overflow errors"
      ]
    },
    {
      "cell_type": "code",
      "source": [
        "# Add bias term to the training data\n",
        "X_bias = np.c_[Xtrain, np.ones(Xtrain.shape[0])]  # Augmented input with bias\n",
        "n_samples, n_features = X_bias.shape\n",
        "\n",
        "# Initialize weights\n",
        "a3 = 0.01 * np.random.randn(n_features)\n",
        "\n",
        "def sigmoid(z):\n",
        "    # Handle large positive and negative values\n",
        "    z = np.clip(z, -500, 500)\n",
        "    return 1 / (1 + np.exp(-z))\n",
        "\n",
        "for i in range(100):\n",
        "    z = np.dot(X_bias, a)\n",
        "\n",
        "    predictions = sigmoid(z)\n",
        "\n",
        "    gradient = np.dot(X_bias.T, (predictions - ytrain))\n",
        "\n",
        "    a3 -= (1e-4) * gradient"
      ],
      "metadata": {
        "id": "cshAJ3CBwyea"
      },
      "execution_count": null,
      "outputs": []
    },
    {
      "cell_type": "code",
      "source": [
        "import numpy as np\n",
        "\n",
        "def sigmoid(z):\n",
        "    # Handle large positive and negative values\n",
        "    z = np.clip(z, -500, 500)\n",
        "    return 1 / (1 + np.exp(-z))\n",
        "\n",
        "def logisticRegression(Xtrain, ytrain, iterations=100, step_size=1e-4, verbose=False):\n",
        "\n",
        "    X_bias = np.c_[Xtrain, np.ones(Xtrain.shape[0])]\n",
        "    n_samples, n_features = X_bias.shape\n",
        "\n",
        "    # Initialize weights\n",
        "    a3 = 0.01 * np.random.randn(n_features)\n",
        "\n",
        "    for i in range(iterations):\n",
        "        z = np.dot(X_bias, a3)\n",
        "\n",
        "        predictions = sigmoid(z)\n",
        "\n",
        "        gradient = np.dot(X_bias.T, (predictions - ytrain))\n",
        "\n",
        "        a3 = a3 - step_size * gradient\n",
        "\n",
        "    return a3\n",
        "\n",
        "a3 = logisticRegression(X_train,y_train,iterations=500,verbose=False)\n",
        "plt.imshow(np.reshape(a3[0:784],(28,28)))\n",
        "\n",
        "train = testLinearClassifier(a3,X_train,y_train)\n",
        "val = testLinearClassifier(a3,X_val,y_val)\n",
        "test = testLinearClassifier(a3,X_test,y_test)"
      ],
      "metadata": {
        "colab": {
          "base_uri": "https://localhost:8080/",
          "height": 482
        },
        "id": "WemvzE5R_NGz",
        "outputId": "514d157f-724c-4d48-93e5-3891acbbbcf8"
      },
      "execution_count": null,
      "outputs": [
        {
          "output_type": "stream",
          "name": "stdout",
          "text": [
            "Mis-classifications= 13 out of 8897, Accuracy percent is given by: 99.85 %\n",
            "Mis-classifications= 0 out of 1449, Accuracy percent is given by: 100.00 %\n",
            "Mis-classifications= 4 out of 4434, Accuracy percent is given by: 99.91 %\n"
          ]
        },
        {
          "output_type": "display_data",
          "data": {
            "text/plain": [
              "<Figure size 640x480 with 1 Axes>"
            ],
            "image/png": "[encoded data removed]"
          },
          "metadata": {}
        }
      ]
    },
    {
      "cell_type": "code",
      "source": [
        "\n",
        "def sigmoid(z):\n",
        "    # Handle large positive and negative values\n",
        "    z = np.clip(z, -500, 500)\n",
        "    return 1 / (1 + np.exp(-z))\n",
        "\n",
        "\n",
        "def logisticRegressionWithRegularization(Xtrain, ytrain, iterations=100, step_size=1e-4, lam=1, verbose=False):\n",
        "\n",
        "    Xtilde = np.hstack((Xtrain, np.ones((Xtrain.shape[0], 1))))\n",
        "    n_samples, n_features = Xtilde.shape\n",
        "\n",
        "    a = 0.01 * np.random.randn(n_features)\n",
        "\n",
        "    for i in range(iterations):\n",
        "        z = np.dot(Xtilde, a)\n",
        "\n",
        "        s = sigmoid(z)\n",
        "\n",
        "        gradient = (np.dot(Xtilde.T, (s - ytrain)) ) + 2* (lam) * a\n",
        "\n",
        "        gradient[-1] -= (lam / n_samples) * a[-1]\n",
        "\n",
        "        a -= step_size * gradient\n",
        "\n",
        "    return a\n",
        "\n",
        "a = logisticRegressionWithRegularization(X_train,y_train,iterations=500,verbose=False)\n",
        "plt.imshow(np.reshape(a[0:784],(28,28)))\n",
        "\n",
        "train = testLinearClassifier(a,X_train,y_train)\n",
        "val = testLinearClassifier(a,X_val,y_val)\n",
        "test = testLinearClassifier(a,X_test,y_test)"
      ],
      "metadata": {
        "colab": {
          "base_uri": "https://localhost:8080/",
          "height": 482
        },
        "id": "LuoC_sHogFQ4",
        "outputId": "9f7eb907-b592-46a3-f46d-3b7eab0d3e0d"
      },
      "execution_count": null,
      "outputs": [
        {
          "output_type": "stream",
          "name": "stdout",
          "text": [
            "Mis-classifications= 8 out of 8897, Accuracy percent is given by: 99.91 %\n",
            "Mis-classifications= 0 out of 1449, Accuracy percent is given by: 100.00 %\n",
            "Mis-classifications= 6 out of 4434, Accuracy percent is given by: 99.86 %\n"
          ]
        },
        {
          "output_type": "display_data",
          "data": {
            "text/plain": [
              "<Figure size 640x480 with 1 Axes>"
            ],
            "image/png": "[encoded data removed]"
          },
          "metadata": {}
        }
      ]
    },
    {
      "cell_type": "code",
      "execution_count": null,
      "metadata": {
        "id": "xHg3XAWl2flP",
        "colab": {
          "base_uri": "https://localhost:8080/",
          "height": 712
        },
        "outputId": "df1717eb-eb7d-4b76-bc69-26cf79cff0df"
      },
      "outputs": [
        {
          "output_type": "stream",
          "name": "stdout",
          "text": [
            "Mis-classifications= 0 out of 1449, Accuracy percent is given by: 100.00 %\n",
            "Mis-classifications= 0 out of 1449, Accuracy percent is given by: 100.00 %\n",
            "Mis-classifications= 1 out of 1449, Accuracy percent is given by: 99.93 %\n",
            "Mis-classifications= 10 out of 1449, Accuracy percent is given by: 99.31 %\n",
            "Mis-classifications= 0 out of 1449, Accuracy percent is given by: 100.00 %\n",
            "Mis-classifications= 6 out of 4434, Accuracy percent is given by: 99.86 %\n",
            "Optimal λ: 0.01\n",
            "Test Misclassifications: 6\n",
            "Test Accuracy: 99.86%\n"
          ]
        },
        {
          "output_type": "display_data",
          "data": {
            "text/plain": [
              "<Figure size 640x480 with 2 Axes>"
            ],
            "image/png": "[encoded data removed]"
          },
          "metadata": {}
        },
        {
          "output_type": "stream",
          "name": "stdout",
          "text": [
            "Mis-classifications= 4 out of 8897, Accuracy percent is given by: 99.96 %\n",
            "Mis-classifications= 0 out of 1449, Accuracy percent is given by: 100.00 %\n",
            "Mis-classifications= 6 out of 4434, Accuracy percent is given by: 99.86 %\n",
            "Training Misclassifications: 4\n",
            "Validation Misclassifications: 0\n",
            "Test Misclassifications: 6\n"
          ]
        }
      ],
      "source": [
        "def optimizeHyperparameters(Xtrain, ytrain, Xval, yval, Xtest, ytest, iterations=500, step_size=1e-3, verbose=False, lam=1):\n",
        "\n",
        "    # Define range of λ values to test\n",
        "    lambda_values = [0.01, 0.1, 1, 10, 100]\n",
        "    lamopt = None\n",
        "    best_a = None\n",
        "    lowest_misclassifications = float('inf')\n",
        "\n",
        "    # Test each λ value\n",
        "    for lam in lambda_values:\n",
        "        a4 = logisticRegressionWithRegularization(Xtrain, ytrain, iterations=iterations, step_size=step_size, lam=lam, verbose=verbose)\n",
        "\n",
        "        misclassifications = testLinearClassifier(a4, Xval, yval)\n",
        "\n",
        "        if misclassifications < lowest_misclassifications:\n",
        "            lowest_misclassifications = misclassifications\n",
        "            lamopt = lam\n",
        "            best_a = a4\n",
        "\n",
        "    test_misclassifications = testLinearClassifier(best_a, Xtest, ytest)\n",
        "    test_accuracy = 100 - (test_misclassifications / len(ytest)) * 100\n",
        "\n",
        "    print(f\"Optimal λ: {lamopt}\")\n",
        "    print(f\"Test Misclassifications: {test_misclassifications}\")\n",
        "    print(f\"Test Accuracy: {test_accuracy:.2f}%\")\n",
        "\n",
        "    return lamopt, best_a\n",
        "\n",
        "#------SIMPLE TESTING ON THE TRAINING DATA ITSELF --------------\n",
        "best_lambda, best_a = optimizeHyperparameters(\n",
        "    X_train, y_train, X_val, y_val, X_test, y_test, iterations=500, step_size=1e-3, verbose=True\n",
        ")\n",
        "\n",
        "plt.imshow(np.reshape(best_a[:784], (28, 28)))\n",
        "plt.title(f\"Logistic Regression Weights (Optimal λ = {best_lambda})\")\n",
        "plt.colorbar()\n",
        "plt.show()\n",
        "\n",
        "# Evaluate the best model\n",
        "train_misclassifications = testLinearClassifier(best_a, X_train, y_train)\n",
        "val_misclassifications = testLinearClassifier(best_a, X_val, y_val)\n",
        "test_misclassifications = testLinearClassifier(best_a, X_test, y_test)\n",
        "\n",
        "print(f\"Training Misclassifications: {train_misclassifications}\")\n",
        "print(f\"Validation Misclassifications: {val_misclassifications}\")\n",
        "print(f\"Test Misclassifications: {test_misclassifications}\")\n",
        "\n"
      ]
    },
    {
      "cell_type": "markdown",
      "metadata": {
        "id": "0a6qW1382flQ"
      },
      "source": [
        "# REPORT TEST ERRORS OF THE BEST MODELS\n",
        "\n",
        "YOUR CODE BELOW"
      ]
    },
    {
      "cell_type": "code",
      "execution_count": null,
      "metadata": {
        "id": "2ASgNYp62flQ"
      },
      "outputs": [],
      "source": [
        "def compareClassifiers(X_train, y_train, X_val, y_val, X_test, y_test, iterations=500, step_size=1e-4, lam=0.1):\n",
        "\n",
        "    print(\"Training and evaluating classifiers...\\n\")\n",
        "\n",
        "    # 1. Gaussian Classifier with Identity Covariance\n",
        "    print(\"1. Gaussian Classifier with Identity Covariance\")\n",
        "    a1 = gaussianClassifierWithIdentityCovariance(X_train, y_train)\n",
        "    test_misclassifications_a1 = testLinearClassifier(a1, X_test, y_test)\n",
        "    print(f\"Test Misclassifications (Gaussian with Identity Covariance): {test_misclassifications_a1}\")\n",
        "\n",
        "    # 2. Gaussian Classifier with Common Covariance\n",
        "    print(\"\\n2. Gaussian Classifier with Common Covariance\")\n",
        "    a2 = gaussianClassifierWithCommonCovariance(X_train, y_train)\n",
        "    test_misclassifications_a2 = testLinearClassifier(a2, X_test, y_test)\n",
        "    print(f\"Test Misclassifications (Gaussian with Common Covariance): {test_misclassifications_a2}\")\n",
        "\n",
        "    # 3. Logistic Regression\n",
        "    print(\"\\n3. Logistic Regression\")\n",
        "    a3 = logisticRegression(X_train, y_train, iterations=iterations, step_size=step_size, verbose=False)\n",
        "    test_misclassifications_a3 = testLinearClassifier(a3, X_test, y_test)\n",
        "    print(f\"Test Misclassifications (Logistic Regression): {test_misclassifications_a3}\")\n",
        "\n",
        "    # 4. Logistic Regression with Regularization\n",
        "    print(\"\\n4. Logistic Regression with Regularization\")\n",
        "    a4 = logisticRegressionWithRegularization(X_train, y_train, iterations=iterations, step_size=step_size, lam=lam, verbose=False)\n",
        "    test_misclassifications_a4 = testLinearClassifier(a4, X_test, y_test)\n",
        "    print(f\"Test Misclassifications (Logistic Regression with Regularization, λ={lam}): {test_misclassifications_a4}\")\n",
        "\n",
        "    # Summary\n",
        "    print(\"\\nSummary of Test Misclassifications:\")\n",
        "    print(f\"Gaussian with Identity Covariance: {test_misclassifications_a1}\")\n",
        "    print(f\"Gaussian with Common Covariance: {test_misclassifications_a2}\")\n",
        "    print(f\"Logistic Regression: {test_misclassifications_a3}\")\n",
        "    print(f\"Logistic Regression with Regularization (λ={lam}): {test_misclassifications_a4}\")\n"
      ]
    },
    {
      "cell_type": "code",
      "source": [
        "compareClassifiers(X_train, y_train, X_val, y_val, X_test, y_test, iterations=500, step_size=1e-4, lam=0.1)\n"
      ],
      "metadata": {
        "colab": {
          "base_uri": "https://localhost:8080/"
        },
        "id": "3LmW0Ub8CZ-8",
        "outputId": "43acb4db-2919-46fe-b16b-fb1b8922c873"
      },
      "execution_count": null,
      "outputs": [
        {
          "output_type": "stream",
          "name": "stdout",
          "text": [
            "Training and evaluating classifiers...\n",
            "\n",
            "1. Gaussian Classifier with Identity Covariance\n",
            "Mis-classifications= 36 out of 4434, Accuracy percent is given by: 99.19 %\n",
            "Test Misclassifications (Gaussian with Identity Covariance): 36\n",
            "\n",
            "2. Gaussian Classifier with Common Covariance\n",
            "Mis-classifications= 44 out of 4434, Accuracy percent is given by: 99.01 %\n",
            "Test Misclassifications (Gaussian with Common Covariance): 44\n",
            "\n",
            "3. Logistic Regression\n",
            "Mis-classifications= 5 out of 4434, Accuracy percent is given by: 99.89 %\n",
            "Test Misclassifications (Logistic Regression): 5\n",
            "\n",
            "4. Logistic Regression with Regularization\n",
            "Mis-classifications= 6 out of 4434, Accuracy percent is given by: 99.86 %\n",
            "Test Misclassifications (Logistic Regression with Regularization, λ=0.1): 6\n",
            "\n",
            "Summary of Test Misclassifications:\n",
            "Gaussian with Identity Covariance: 36\n",
            "Gaussian with Common Covariance: 44\n",
            "Logistic Regression: 5\n",
            "Logistic Regression with Regularization (λ=0.1): 6\n"
          ]
        }
      ]
    },
    {
      "cell_type": "code",
      "source": [],
      "metadata": {
        "id": "r-gBpFfbeiZx"
      },
      "execution_count": null,
      "outputs": []
    }
  ],
  "metadata": {
    "anaconda-cloud": {},
    "kernelspec": {
      "display_name": "Python 3 (ipykernel)",
      "language": "python",
      "name": "python3"
    },
    "language_info": {
      "codemirror_mode": {
        "name": "ipython",
        "version": 3
      },
      "file_extension": ".py",
      "mimetype": "text/x-python",
      "name": "python",
      "nbconvert_exporter": "python",
      "pygments_lexer": "ipython3",
      "version": "3.11.4"
    },
    "colab": {
      "provenance": []
    }
  },
  "nbformat": 4,
  "nbformat_minor": 0
}